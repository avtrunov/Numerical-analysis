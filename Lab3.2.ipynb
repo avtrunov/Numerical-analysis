{
 "cells": [
  {
   "cell_type": "markdown",
   "metadata": {},
   "source": [
    "# Лабораторная работа 3.2 \n",
    "Трунов Антон М8О-304Б Вариант 16"
   ]
  },
  {
   "cell_type": "markdown",
   "metadata": {},
   "source": [
    "# Задание\n",
    "Построить кубический сплайн для функции, заданной в узлах интерполяции \n",
    "$\n",
    "x_i = \\{0.1, 0.5, 0.9, 1.3, 1.7\\} \\\\ \n",
    "f_i = \\{-2.2026, -0.19315, 0.79464, 1.5624, 2.2306\\}\\\\\n",
    "i = 0,...,4,\n",
    "$\n",
    "предполагая, что сплайн имеет нулевую кривизну при $x=x_0$ и $x=x_4$. Вычислить значение функции в точке $x=X^*=0.8$.\n"
   ]
  },
  {
   "cell_type": "code",
   "execution_count": 10,
   "metadata": {},
   "outputs": [],
   "source": [
    "import numpy as np\n",
    "import matplotlib.pyplot as plt\n",
    "plt.rcParams['figure.figsize'] = [15, 8]"
   ]
  },
  {
   "cell_type": "code",
   "execution_count": 11,
   "metadata": {},
   "outputs": [],
   "source": [
    "x_nodes = np.array([0.0, 1.7, 3.4, 5.1, 6.8])\n",
    "y_nodes = np.array([0.0, 3.0038, 5.2439, 7.3583, 9.4077])\n",
    "#x_nodes = np.array([0.0, 1.0, 2.0, 3.0, 4.0])\n",
    "#y_nodes = np.array([0.0, 1.8415, 2.9093, 3.1411, 3.2432])\n",
    "x_err = 3.0"
   ]
  },
  {
   "cell_type": "code",
   "execution_count": 12,
   "metadata": {},
   "outputs": [],
   "source": [
    "n = x_nodes.shape[0] - 1"
   ]
  },
  {
   "cell_type": "code",
   "execution_count": 13,
   "metadata": {},
   "outputs": [],
   "source": [
    "def TDMAsolver(a, b, c, d):\n",
    "    nf = len(d) # number of equations\n",
    "    ac, bc, cc, dc = map(np.array, (a, b, c, d)) # copy arrays\n",
    "    for it in range(1, nf):\n",
    "        mc = ac[it-1]/bc[it-1]\n",
    "        bc[it] = bc[it] - mc*cc[it-1] \n",
    "        dc[it] = dc[it] - mc*dc[it-1]\n",
    "        \n",
    "    xc = bc\n",
    "    xc[-1] = dc[-1]/bc[-1]\n",
    "\n",
    "    for il in range(nf-2, -1, -1):\n",
    "        xc[il] = (dc[il]-cc[il]*xc[il+1])/bc[il]\n",
    "\n",
    "    return xc"
   ]
  },
  {
   "cell_type": "code",
   "execution_count": 14,
   "metadata": {},
   "outputs": [],
   "source": [
    "def c_coeff(x, y, n):\n",
    "    a = np.zeros(n - 1)\n",
    "    b = np.zeros(n - 1)\n",
    "    c = np.zeros(n - 1)\n",
    "    d = np.zeros(n - 1)\n",
    "    c_coeff = np.zeros(n)\n",
    "    for i in range(2, n + 1):\n",
    "        a[i - 2] = x[i - 1] - x[i - 2]\n",
    "        b[i - 2] = 2*(x[i] - x[i - 2])\n",
    "        c[i - 2] = x[i] - x[i - 1]\n",
    "        d[i - 2] = 3 * ((y[i] - y[i-1]) / (x[i] - x[i-1]) - (y[i-1] - y[i-2]) / (x[i-1] - x[i-2]))\n",
    "    c_coeff[1:] = TDMAsolver(a[1:], b, c[:len(c)], d)\n",
    "    return c_coeff"
   ]
  },
  {
   "cell_type": "code",
   "execution_count": 15,
   "metadata": {},
   "outputs": [],
   "source": [
    "def spline_table(x, y, n):\n",
    "    A = np.empty((n,4))\n",
    "    c = c_coeff(x, y, n)\n",
    "    for i in range(1,n):\n",
    "        A[i - 1,0] = y[i - 1]\n",
    "        A[i - 1,1] = (y[i] - y[i - 1])/(x[i] - x[i-1]) - (x[i] - x[i-1])*(c[i] + 2*c[i - 1])/3\n",
    "        A[i - 1,2] = c[i - 1]\n",
    "        A[i - 1,3] = (c[i] - c[i - 1])/(3*(x[i]-x[i-1]))\n",
    "    A[n - 1,0] = y[n - 1]\n",
    "    A[n-1,1] = (y[n] - y[n - 1])/(x[n] - x[n-1]) - 2*(x[n] - x[n-1])*c[n - 1]/3\n",
    "    A[n - 1,2] = c[n - 1]\n",
    "    A[n - 1,3] = -c[n - 1] / (3 * (x[n] - x[n - 1]))\n",
    "    return A"
   ]
  },
  {
   "cell_type": "code",
   "execution_count": 16,
   "metadata": {},
   "outputs": [],
   "source": [
    "def cubic_spline(A,x_nodes, y_nodes, n , x):\n",
    "    f = lambda a,b,c,d,xi,x: a + b*(x - xi) + c*(x - xi)**2 + d*(x - xi)**3\n",
    "    i = np.where(x >= x_nodes)[0][-1]\n",
    "    return f(A[i,0], A[i,1], A[i,2], A[i,3], x_nodes[i], x)"
   ]
  },
  {
   "cell_type": "code",
   "execution_count": 17,
   "metadata": {},
   "outputs": [
    {
     "name": "stdout",
     "output_type": "stream",
     "text": [
      "Coefficients matrix:\n",
      " [[ 0.00000000e+00  1.88267332e+00  0.00000000e+00 -4.00457242e-02]\n",
      " [ 3.00380000e+00  1.53547689e+00 -2.04233193e-01  4.47838824e-02]\n",
      " [ 5.24390000e+00  1.22936029e+00  2.41646070e-02 -9.23024919e-03]\n",
      " [ 7.35830000e+00  1.23149370e+00 -2.29096639e-02  4.49209095e-03]]\n",
      "Result at X* = 3.0: 4.753156051001716\n"
     ]
    }
   ],
   "source": [
    "A = spline_table(x_nodes, y_nodes, n)\n",
    "print(\"Coefficients matrix:\\n\", A)\n",
    "print(\"Result at X* = %s:\" %x_err, cubic_spline(A, x_nodes, y_nodes, n , x_err))"
   ]
  },
  {
   "cell_type": "code",
   "execution_count": 18,
   "metadata": {},
   "outputs": [
    {
     "data": {
      "image/png": "[encoded data removed]",
      "text/plain": [
       "<Figure size 1080x576 with 1 Axes>"
      ]
     },
     "metadata": {
      "needs_background": "light"
     },
     "output_type": "display_data"
    }
   ],
   "source": [
    "plt.grid()\n",
    "X = np.arange(x_nodes[0], x_nodes[-1], 0.01)\n",
    "P_3 = [cubic_spline(A, x_nodes, y_nodes, n , x) for x in X]\n",
    "plt.plot(x_nodes,y_nodes,'o',label='Nodes')\n",
    "plt.plot(X,P_3,label='Interpolation')\n",
    "plt.legend()\n",
    "plt.show()"
   ]
  },
  {
   "cell_type": "code",
   "execution_count": null,
   "metadata": {},
   "outputs": [],
   "source": []
  }
 ],
 "metadata": {
  "kernelspec": {
   "display_name": "Python 3",
   "language": "python",
   "name": "python3"
  },
  "language_info": {
   "codemirror_mode": {
    "name": "ipython",
    "version": 3
   },
   "file_extension": ".py",
   "mimetype": "text/x-python",
   "name": "python",
   "nbconvert_exporter": "python",
   "pygments_lexer": "ipython3",
   "version": "3.8.3"
  }
 },
 "nbformat": 4,
 "nbformat_minor": 4
}
