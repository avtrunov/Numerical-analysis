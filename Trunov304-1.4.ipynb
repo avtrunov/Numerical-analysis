{
 "cells": [
  {
   "cell_type": "markdown",
   "metadata": {},
   "source": [
    "# Лабораторная работа 1.4 \n",
    "Трунов Антон М8О-304Б Вариант 16"
   ]
  },
  {
   "cell_type": "markdown",
   "metadata": {},
   "source": [
    "# Задание\n",
    "Реализовать метод вращений в виде программы, задавая в качестве входных данных матрицу и точность вычислений. Используя разработанное программное обеспечение, найти собственные значения и собственные векторы симметрических матриц. Проанализировать зависимость погрешности вычислений от числа итераций. \n",
    "\\begin{pmatrix}\n",
    "8 & -3 & 9 \\\\\n",
    "-3 & 8 & -2 \\\\\n",
    "9 & -2 & -8 \\\\\n",
    "\\end{pmatrix}"
   ]
  },
  {
   "cell_type": "code",
   "execution_count": 5,
   "metadata": {},
   "outputs": [],
   "source": [
    "import numpy as np\n",
    "\n",
    "def jacobi_eigen(A,eps=1e-3, maxiter = 1000):\n",
    "    niter = 0\n",
    "    N = A.shape[0]\n",
    "    u = np.eye(N)\n",
    "    t = [abs(A[i, j]) for i in range(N) for j in range(N) if i < j] #получение списка элементов стоящих выше диагонали\n",
    "    Lam = np.copy(A)\n",
    "    while np.linalg.norm(t) > eps and niter < maxiter:\n",
    "        test = np.linalg.norm(t)\n",
    "        a_ij = np.amax(t) #поиск максимального среди них\n",
    "        ij = np.where(abs(Lam) == a_ij) #поиск индекса максимального элемента\n",
    "        i,j = ij[0][0],ij[1][0]\n",
    "        Phi = 0.5*np.arctan(2*A[i,j]/(A[i,i]-A[j,j])) if A[i,i] != A[j,j] else np.pi/4\n",
    "        U = np.eye(N)\n",
    "        U[i,j] = np.sin(Phi)\n",
    "        U[j,i] = -np.sin(Phi)\n",
    "        U[i,i]=U[j,j] = np.cos(Phi)\n",
    "        A = np.copy(Lam)\n",
    "        for m in range(i,j+1,j-i):\n",
    "            for n in range(N):\n",
    "                Lam[m,n] = np.inner(U[m, :], A[:, n])\n",
    "        U[i,j],U[j,i]= U[j,i],U[i,j]\n",
    "        A = np.copy(Lam)\n",
    "        for m in range(i,j+1,j-i):\n",
    "            for n in range(N):\n",
    "                Lam[n,m] = np.inner(A[n,:],U[:,m])\n",
    "        t = [abs(Lam[i, j]) for i in range(N) for j in range(N) if i < j]\n",
    "        niter += 1\n",
    "        u = u @ U\n",
    "    return Lam,niter,u\n"
   ]
  },
  {
   "cell_type": "code",
   "execution_count": 6,
   "metadata": {},
   "outputs": [
    {
     "name": "stdout",
     "output_type": "stream",
     "text": [
      "A:\n",
      " [[ 8. -3.  9.]\n",
      " [-3.  8. -2.]\n",
      " [ 9. -2. -8.]]\n",
      "Eigenvalues: [14.11433981634089, 5.945408489747225, -12.059748306088107] \n",
      "Number of iterations: 7\n",
      "Eigenvectors matrix:\n",
      " [[ 0.783  0.471 -0.405]\n",
      " [-0.504  0.863  0.03 ]\n",
      " [ 0.364  0.18   0.914]]\n"
     ]
    }
   ],
   "source": [
    "A = np.array([[8,-3,9],[-3,8,-2],[9,-2,-8]],dtype=float)\n",
    "Lam,niter,U = jacobi_eigen(np.copy(A))\n",
    "np.set_printoptions(precision=3)\n",
    "np.set_printoptions(suppress=True)\n",
    "print(\"A:\\n\",A)\n",
    "print(\"Eigenvalues:\",[Lam[i,i] for i in range(len(Lam[0,:]))],\"\\nNumber of iterations:\",niter)\n",
    "print(\"Eigenvectors matrix:\\n\",U)\n"
   ]
  },
  {
   "cell_type": "code",
   "execution_count": null,
   "metadata": {},
   "outputs": [],
   "source": []
  }
 ],
 "metadata": {
  "kernelspec": {
   "display_name": "Python 3",
   "language": "python",
   "name": "python3"
  },
  "language_info": {
   "codemirror_mode": {
    "name": "ipython",
    "version": 3
   },
   "file_extension": ".py",
   "mimetype": "text/x-python",
   "name": "python",
   "nbconvert_exporter": "python",
   "pygments_lexer": "ipython3",
   "version": "3.8.3"
  }
 },
 "nbformat": 4,
 "nbformat_minor": 4
}
