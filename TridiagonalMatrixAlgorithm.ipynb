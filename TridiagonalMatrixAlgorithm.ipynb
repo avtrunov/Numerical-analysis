{
 "cells": [
  {
   "cell_type": "markdown",
   "metadata": {},
   "source": [
    "# Лабораторная работа 1.2\n",
    "Трунов Антон М8О-304Б Вариант 16"
   ]
  },
  {
   "cell_type": "markdown",
   "metadata": {},
   "source": [
    "# Задание\n",
    "Реализовать метод прогонки в виде программы, задавая в качестве входных данных ненулевые элементы матрицы системы и вектор правых частей. Используя разработанное программное обеспечение, решить СЛАУ с трехдиагональной матрицей.\n",
    "\\begin{cases}\n",
    "18x_1 - 9x_2 = -81 \\\\\n",
    "2x_1 - 9x_2 - 4x_3 = 71 \\\\\n",
    "-9x_2 + 21x_3 - 8x_4 = -39 \\\\\n",
    "-4x_3 - 10x_4 + 5x_5 = 64 \\\\\n",
    "7x_4 + 12x_5 = 3 \\\\\n",
    "\\end{cases}"
   ]
  },
  {
   "cell_type": "code",
   "execution_count": 2,
   "metadata": {},
   "outputs": [],
   "source": [
    "import numpy as np\n",
    "\n",
    "def TDMA(A,d):\n",
    "    N = len(d)\n",
    "    x = np.zeros(N)\n",
    "    P = np.zeros(N)\n",
    "    Q = np.zeros(N)\n",
    "    P[0] = -A[0,1]/A[0,0]\n",
    "    Q[0] = d[0]/A[0,0]\n",
    "    for i in range(1,N-1):\n",
    "        P[i]=-A[i,i+1]/(A[i,i]+A[i,i-1]*P[i-1])\n",
    "        Q[i]=(d[i]-A[i,i-1]*Q[i-1])/(A[i,i]+A[i,i-1]*P[i-1])\n",
    "    x[N-1] = (d[N-1]-A[N-1,N-2]*Q[N-2])/(A[N-1,N-1]+A[N-1,N-2]*P[N-2])\n",
    "    for i in range(N-2,-1,-1):\n",
    "        x[i] = P[i]*x[i+1]+Q[i]\n",
    "    return x"
   ]
  },
  {
   "cell_type": "code",
   "execution_count": 3,
   "metadata": {},
   "outputs": [
    {
     "name": "stdout",
     "output_type": "stream",
     "text": [
      "A:\n",
      " [[ 18.  -9.   0.   0.   0.]\n",
      " [  2.  -9.  -4.   0.   0.]\n",
      " [  0.  -9.  21.  -8.   0.]\n",
      " [  0.   0.  -4. -10.   5.]\n",
      " [  0.   0.   0.   7.  12.]] \n",
      " d: [-81.  71. -39.  64.   3.] \n",
      " Solution: [-8. -7. -6. -3.  2.]\n",
      "Solution using linalg.solve: [-8. -7. -6. -3.  2.]\n"
     ]
    }
   ],
   "source": [
    "d=np.array([-81,71,-39,64,3],dtype=float)\n",
    "A = np.array([[18,-9,0,0,0],[2,-9,-4,0,0],[0,-9,21,-8,0],[0,0,-4,-10,5],[0,0,0,7,12]],dtype=float)\n",
    "x= TDMA(A,d)\n",
    "print(\"A:\\n\",A,\"\\n\",\"d:\",d,\"\\n\",\"Solution:\",x)\n",
    "print(\"Solution using linalg.solve:\",np.linalg.solve(A,d))"
   ]
  },
  {
   "cell_type": "code",
   "execution_count": null,
   "metadata": {},
   "outputs": [],
   "source": []
  }
 ],
 "metadata": {
  "kernelspec": {
   "display_name": "Python 3",
   "language": "python",
   "name": "python3"
  },
  "language_info": {
   "codemirror_mode": {
    "name": "ipython",
    "version": 3
   },
   "file_extension": ".py",
   "mimetype": "text/x-python",
   "name": "python",
   "nbconvert_exporter": "python",
   "pygments_lexer": "ipython3",
   "version": "3.8.3"
  }
 },
 "nbformat": 4,
 "nbformat_minor": 4
}
