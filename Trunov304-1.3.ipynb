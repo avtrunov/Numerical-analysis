{
 "cells": [
  {
   "cell_type": "markdown",
   "metadata": {},
   "source": [
    "# Лабораторная работа 1.3\n",
    "Трунов Антон М8О-304Б Вариант 16"
   ]
  },
  {
   "cell_type": "markdown",
   "metadata": {},
   "source": [
    "# Задание\n",
    "Реализовать метод простых итераций и метод Зейделя в виде программ, задавая в качестве входных данных матрицу системы, вектор правых частей и точность вычислений. Используя разработанное программное обеспечение, решить СЛАУ. Проанализировать количество итераций, необходимое для достижения заданной точности.\n",
    "\\begin{cases}\n",
    "21x_1 - 6x_2 - 9x_3 - 4x_4 = 127 \\\\\n",
    "-6x_1 + 20x_2 - 4x_3 + 2x_4 = -144 \\\\\n",
    "-2x_1 - 7x_2 - 20x_3 + 3x_4 = 236 \\\\\n",
    "4x_1 + 9x_2 + 6x_3 + 24x_4 = -5 \\\\\n",
    "\\end{cases}"
   ]
  },
  {
   "cell_type": "code",
   "execution_count": 5,
   "metadata": {},
   "outputs": [],
   "source": [
    "import numpy as np"
   ]
  },
  {
   "cell_type": "code",
   "execution_count": 6,
   "metadata": {},
   "outputs": [],
   "source": [
    "def norm(B,d):\n",
    "    maxsum = 0\n",
    "    for i in range(len(b)):\n",
    "        sum =np.sum(np.abs(B[i,:]*d[i]))\n",
    "        if sum >= maxsum:\n",
    "            maxsum = sum\n",
    "    return maxsum"
   ]
  },
  {
   "cell_type": "markdown",
   "metadata": {},
   "source": [
    "# I.  Jacobi iteration\n",
    "\n",
    "Given\n",
    "\n",
    "$$\n",
    "A x = b\n",
    "$$\n",
    "\n",
    "separate the diagonal part $D$,\n",
    "\n",
    "$$ A = D + (A - D) $$\n",
    "\n",
    "and write\n",
    "\n",
    "$$\n",
    "x = D^{-1} (D - A) x + D^{-1} b\\;.\n",
    "$$\n",
    "\n",
    "Then iterate\n",
    "\n",
    "$$\n",
    "x_{n + 1} = B x_{n} + c\\;,\n",
    "$$\n",
    "\n",
    "where \n",
    "\n",
    "$$\n",
    "B = D^{-1} (A - D) \\qquad \\text{and} \\qquad c = D^{-1} b\n",
    "$$\n"
   ]
  },
  {
   "cell_type": "code",
   "execution_count": 7,
   "metadata": {},
   "outputs": [],
   "source": [
    "def jacobi(A,b,eps=1e-5,maxiter=1000):\n",
    "    d = 1./np.diag(A)\n",
    "    np.fill_diagonal(A,0)\n",
    "    x0 = b * d\n",
    "    x = np.copy(x0)\n",
    "    normB = norm(A,d) #B=D_-1(D-A)\n",
    "    for i in range(maxiter):#x1 = Bx0+c, c=D_-1*b\n",
    "        for j in range(len(b)):\n",
    "            x[j]=(-np.inner(A[j,:],x0)+b[j])*d[j]\n",
    "        if np.linalg.norm(x-x0)*normB/(1-normB) < eps:\n",
    "            return x,i\n",
    "        x0 = np.copy(x)\n",
    "    return x,i"
   ]
  },
  {
   "cell_type": "markdown",
   "metadata": {},
   "source": [
    "# Il.  Seidel iteration\n",
    "\n",
    "Given\n",
    "\n",
    "$$\n",
    "A x = b\n",
    "$$\n",
    "\n",
    "$$ A = L + D + U $$\n",
    "\n",
    "Where $L$ - lower triangular matrix, $U$ - upper triangular and $D$ - diagonal of $A$ \n",
    "\n",
    "$$\n",
    "Lx_{n+1} + Dx_{n+1} + Ux_n = b\\;.\n",
    "$$\n",
    "\n",
    "Then iterate\n",
    "\n",
    "$$\n",
    "x_{n + 1} = B x_{n} + c\\;,\n",
    "$$\n",
    "\n",
    "where \n",
    "\n",
    "$$\n",
    "B = -(L+D)^{-1} U \\qquad \\text{and} \\qquad c = (L+D)^{-1} b\n",
    "$$\n"
   ]
  },
  {
   "cell_type": "code",
   "execution_count": 8,
   "metadata": {},
   "outputs": [],
   "source": [
    "def seidel(A,b,eps=1e-5,maxiter=1000):#(L+D+U)x=b, Lx1+Dx1+Ux0=b,x1=-(L+D)_-1*Ux0+(L+D)_-1*b\n",
    "    d = 1. / np.diag(A)\n",
    "    np.fill_diagonal(A, 0)\n",
    "    x0 = b * d\n",
    "    x = np.copy(x0)\n",
    "    normB = norm(A,d)\n",
    "    normC= norm(np.copy(np.triu(A,-1)),np.ones(len(b)))#C = U\n",
    "    for i in range(maxiter):\n",
    "        for j in range(len(b)):\n",
    "            x[j]=(-np.inner(A[j,:j+1],x[:j+1])-np.inner(A[j,j+1:],x0[j+1:])+b[j])*d[j]\n",
    "        if np.linalg.norm(x - x0)*normC/(1-normB) < eps:\n",
    "            return x, i\n",
    "        x0 = np.copy(x)\n",
    "    return x, i"
   ]
  },
  {
   "cell_type": "code",
   "execution_count": 9,
   "metadata": {},
   "outputs": [
    {
     "name": "stdout",
     "output_type": "stream",
     "text": [
      "Input:\n",
      " [[ 21.  -6.  -9.  -4.]\n",
      " [ -6.  20.  -4.   2.]\n",
      " [ -2.  -7. -20.   3.]\n",
      " [  4.   9.   6.  24.]] \n",
      " [ 127. -144.  236.   -5.]\n",
      "Jacobi: [ 1. -9. -8.  5.] \n",
      " Number of iterations: 22\n",
      "Seidel: [ 1. -9. -8.  5.] \n",
      " Number of iterations: 11\n",
      "linalg: [ 1. -9. -8.  5.]\n"
     ]
    }
   ],
   "source": [
    "A = np.array([[21,-6,-9,-4],[-6,20,-4,2],[-2,-7,-20,3],[4,9,6,24]],dtype=float)\n",
    "b = np.array([127,-144,236,-5],dtype=float)\n",
    "print(\"Input:\\n\",A,\"\\n\",b)\n",
    "x , niter = jacobi(np.copy(A),np.copy(b))\n",
    "np.set_printoptions(precision=3)\n",
    "print(\"Jacobi:\",x,\"\\n\",\"Number of iterations:\",niter)\n",
    "x , niter = seidel(np.copy(A),np.copy(b))\n",
    "print(\"Seidel:\",x,\"\\n\",\"Number of iterations:\",niter)\n",
    "print(\"linalg:\",np.linalg.solve(A,b))\n"
   ]
  },
  {
   "cell_type": "code",
   "execution_count": null,
   "metadata": {},
   "outputs": [],
   "source": []
  }
 ],
 "metadata": {
  "kernelspec": {
   "display_name": "Python 3",
   "language": "python",
   "name": "python3"
  },
  "language_info": {
   "codemirror_mode": {
    "name": "ipython",
    "version": 3
   },
   "file_extension": ".py",
   "mimetype": "text/x-python",
   "name": "python",
   "nbconvert_exporter": "python",
   "pygments_lexer": "ipython3",
   "version": "3.8.3"
  }
 },
 "nbformat": 4,
 "nbformat_minor": 4
}
