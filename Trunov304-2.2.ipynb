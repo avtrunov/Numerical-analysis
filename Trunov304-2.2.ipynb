{
 "cells": [
  {
   "cell_type": "markdown",
   "metadata": {},
   "source": [
    "#  Лабораторная работа 2.2\n",
    "Трунов Антон М8О-304Б Вариант 16"
   ]
  },
  {
   "cell_type": "markdown",
   "metadata": {},
   "source": [
    "# Задание\n",
    "Реализовать методы простой итерации и Ньютона решения систем нелинейных уравнений в виде программного кода, задавая в качестве входных данных точность вычислений. С использованием разработанного программного обеспечения решить систему нелинейных уравнений (при наличии нескольких решений найти то из них, в котором значения неизвестных являются положительными); начальное приближение определить графически. Проанализировать зависимость погрешности вычислений от количества итераций.\n",
    "\n",
    "\\begin{cases}\n",
    "f(x_1,x_2)=a x_1 - \\cos{(x_2)} \\\\\n",
    "f(x_1,x_2)= a x_2 - e^{x_1} \\\\\n",
    "\\end{cases}\n",
    ", где $a = 2$"
   ]
  },
  {
   "cell_type": "markdown",
   "metadata": {},
   "source": [
    "# Newton's method\n",
    "$$\n",
    "x_{n+1} = x_{n} + \\Delta{x_n}\n",
    "$$\n",
    "где\n",
    "$$\n",
    "J(x_n) \\Delta{x_n} = - f(x_n)\n",
    "$$\n",
    "\n",
    "Здесь $J(x_n)$ - матрица Якоби первых производных вектор-функции $f(x_n)$. Будем решать эту систему при помощи метода Зейделя."
   ]
  },
  {
   "cell_type": "code",
   "execution_count": 5,
   "metadata": {},
   "outputs": [],
   "source": [
    "import numpy as np\n",
    "def seidel(A,b,eps=1e-5,maxiter=1000):#(L+D+U)x=b, Lx1+Dx1+Ux0=b,x1=-(L+D)_-1*Ux0+(L+D)_-1*b\n",
    "    d = 1. / np.diag(A)\n",
    "    np.fill_diagonal(A, 0)\n",
    "    x0 = b * d\n",
    "    x = np.copy(x0)\n",
    "    for i in range(maxiter):\n",
    "        for j in range(len(b)):\n",
    "            x[j]=(-np.inner(A[j,:j+1],x[:j+1])-np.inner(A[j,j+1:],x0[j+1:])+b[j])*d[j]\n",
    "        if np.linalg.norm(x - x0) < eps:\n",
    "            return x, i\n",
    "        x0 = np.copy(x)\n",
    "    return x, i\n",
    "\n",
    "def solving(f1,f2,x0):#J*dx=-b\n",
    "    b = np.array([f1(x0[0],x0[1]),f2(x0[0],x0[1])],dtype=float)#(f1(x0),f2(x0)).T = -b\n",
    "    J = np.array([[2,np.sin(x0[1])],[-np.exp(x0[0]),2]],dtype = float)#Jacobian\n",
    "    dx, i = seidel(J,-b)\n",
    "    return dx , i\n",
    "\n",
    "def newton(x0,f1,f2,eps=1e-5,maxiter=1000):\n",
    "    niter = 0\n",
    "    norm = 1\n",
    "    x = np.empty_like(x0)\n",
    "    while norm > eps and niter < maxiter:\n",
    "        dx , i = solving(f1,f2,x0)\n",
    "        x = x0 + dx\n",
    "        norm = np.linalg.norm(x-x0)\n",
    "        x0 = np.copy(x)\n",
    "        niter+=1\n",
    "    return x, niter\n"
   ]
  },
  {
   "cell_type": "markdown",
   "metadata": {},
   "source": [
    "# Fixed-point iteration\n",
    "$$\n",
    "x_{n+1} = \\phi{(x_n)}\n",
    "$$\n",
    "where\n",
    "$$\n",
    "x_1^{n+1} = \\cos{(x_2^n)} \\\\\n",
    "x_2^{n+1} = e^{(x_1^n)}\n",
    "$$"
   ]
  },
  {
   "cell_type": "code",
   "execution_count": 12,
   "metadata": {},
   "outputs": [],
   "source": [
    "def phi(x0):\n",
    "    phi1 = lambda x1, x2: np.cos(x2) / 2 + 0 * x1\n",
    "    phi2 = lambda x1, x2: np.exp(x1) / 2 + 0 * x2\n",
    "    arr = np.array([phi1(x0[0],x0[1]),phi2(x0[0],x0[1])])\n",
    "    return arr\n",
    "\n",
    "def fixedp(x0,q,eps=1e-5,maxiter=1000):\n",
    "    niter = 0\n",
    "    norm = 1\n",
    "    x =np.empty_like(x0)\n",
    "    while norm > eps and niter < maxiter:\n",
    "        x = phi(x0)\n",
    "        norm = np.linalg.norm(x - x0) * q/(1-q)\n",
    "        x0 = np.copy(x)\n",
    "        niter +=1\n",
    "    return x, niter"
   ]
  },
  {
   "cell_type": "code",
   "execution_count": 15,
   "metadata": {},
   "outputs": [
    {
     "name": "stdout",
     "output_type": "stream",
     "text": [
      "Newton via Seidel: [0.37372792 0.72657086] \n",
      "Number of iterations: 3\n",
      "Fixepd: [0.37372877 0.72657056] \n",
      "Number of iterations: 17\n"
     ]
    }
   ],
   "source": [
    "f1 = lambda x1,x2 : 2*x1-np.cos(x2)\n",
    "f2 = lambda x1,x2 : 2*x2-np.exp(x1)\n",
    "x0 = np.array([0.3,0.6],dtype = float)\n",
    "x , i = newton(x0,f1,f2)\n",
    "print(\"Newton via Seidel:\",x,\"\\nNumber of iterations:\",i)\n",
    "x , i = fixedp(x0,0.75)\n",
    "print(\"Fixepd:\",x,\"\\nNumber of iterations:\",i)"
   ]
  },
  {
   "cell_type": "markdown",
   "metadata": {},
   "source": [
    "Определим начальное приближение $x_1^0,x_2^0$ графически."
   ]
  },
  {
   "cell_type": "code",
   "execution_count": 8,
   "metadata": {},
   "outputs": [],
   "source": [
    "import matplotlib.pyplot as plt"
   ]
  },
  {
   "cell_type": "code",
   "execution_count": 11,
   "metadata": {},
   "outputs": [
    {
     "data": {
      "image/png": "[encoded data removed]",
      "text/plain": [
       "<Figure size 432x288 with 1 Axes>"
      ]
     },
     "metadata": {
      "needs_background": "light"
     },
     "output_type": "display_data"
    }
   ],
   "source": [
    "X = np.arange(0.25, 1.25, 0.1)  # start,stop,step\n",
    "plt.axhline(0, color='blue')  # x2 = 0\n",
    "plt.axvline(0, color='black')  # x1 = 0\n",
    "plt.grid()\n",
    "plt.plot(X, np.cos(X)/2,X,np.log(2*X))\n",
    "plt.show()"
   ]
  },
  {
   "cell_type": "markdown",
   "metadata": {},
   "source": [
    "Для того, чтобы найти $q$ найдем норму Якобиана $\\phi{(x)}$ в области $G=\\{{[0.2;0.4],[0.6;0.8]}\\}$\n",
    "$$\n",
    "\\phi'{(x)}=\n",
    "\\begin{bmatrix}\n",
    "  \\frac{\\partial \\phi_1}{\\partial x_1} & \n",
    "    \\frac{\\partial \\phi_1}{\\partial x_2} \\\\\n",
    "  \\frac{\\partial \\phi_2}{\\partial x_1} & \n",
    "    \\frac{\\partial \\phi_2}{\\partial x_2} \\\\ \n",
    "\\end{bmatrix}\n",
    "=\n",
    "\\begin{bmatrix}\n",
    "  0 & -\\frac{\\sin{(x_2)}}{2} \\\\\n",
    "  \\frac{e^{x_1}}{2} & 0 \\\\ \n",
    "\\end{bmatrix}\n",
    "$$\n",
    "$$\n",
    "||\\phi'{(x)}||_\\infty = \\max\\{ \\frac{e^{0.4}}{2}, \\frac{\\sin{(0.6)}}{2}\\} \\leq 0.75 = q < 1\n",
    "$$"
   ]
  },
  {
   "cell_type": "code",
   "execution_count": null,
   "metadata": {},
   "outputs": [],
   "source": []
  }
 ],
 "metadata": {
  "kernelspec": {
   "display_name": "Python 3",
   "language": "python",
   "name": "python3"
  },
  "language_info": {
   "codemirror_mode": {
    "name": "ipython",
    "version": 3
   },
   "file_extension": ".py",
   "mimetype": "text/x-python",
   "name": "python",
   "nbconvert_exporter": "python",
   "pygments_lexer": "ipython3",
   "version": "3.8.3"
  }
 },
 "nbformat": 4,
 "nbformat_minor": 4
}
