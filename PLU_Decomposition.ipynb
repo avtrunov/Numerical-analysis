{
 "cells": [
  {
   "cell_type": "markdown",
   "metadata": {},
   "source": [
    "# Лабораторная работа 1.1 \n",
    "Трунов Антон М8О-304Б Вариант 16"
   ]
  },
  {
   "cell_type": "markdown",
   "metadata": {},
   "source": [
    "# Задание\n",
    "Реализовать алгоритм LU -  разложения матриц (с выбором главного элемента) в виде программы. Используя разработанное программное обеспечение, решить систему линейных алгебраических уравнений (СЛАУ). Для матрицы СЛАУ вычислить определитель и обратную матрицу. \n",
    "\\begin{cases}\n",
    "-5x_1 - x_2 - 3x_3 - x_4 = 18 \\\\\n",
    "-2x_1 + 8x_3 - 4x_4 = -12 \\\\\n",
    "-7x_1 - 2x_2 + 2x_3 - 2x_4 = 6 \\\\\n",
    "2x_1 - 4x_2 - 4x_3 + 4x_4 = -12 \\\\\n",
    "\\end{cases}"
   ]
  },
  {
   "cell_type": "markdown",
   "metadata": {},
   "source": [
    "# $LUP$ разложение квадратной матрицы"
   ]
  },
  {
   "cell_type": "code",
   "execution_count": 3,
   "metadata": {},
   "outputs": [],
   "source": [
    "import numpy as np\n",
    "\n",
    "def PLU(a):\n",
    "    N = a.shape[0]\n",
    "    u = a.copy()\n",
    "    L = np.eye(N)\n",
    "    count = 0\n",
    "    Parr = np.arange(N) #permutation array\n",
    "    for j in range(N - 1):\n",
    "        maxindex =  np.where(abs(u[j:, j]) == np.amax(abs(u[j:, j])))[0][0]#searching maximum index in column\n",
    "        if j != j+maxindex:\n",
    "            count+=1\n",
    "        Parr[j], Parr[maxindex+j] =Parr[maxindex+j], Parr[j] #adding permutations into array\n",
    "        u[[j,j+maxindex], :] = u[[j+maxindex,j], :]\n",
    "        gamma = u[j + 1:, j] / u[j, j]\n",
    "        for i in range(N-1-j):\n",
    "            u[i+j+1,:]=-gamma[i]*u[j,:]+u[i+1+j,:]\n",
    "        L[j+1:,j]=gamma[:]\n",
    "        L[[j,j+maxindex], :j] = L[[j+maxindex,j], :j]\n",
    "    detA = det(u)\n",
    "    return L, u, Parr, (detA * (-1)**count)"
   ]
  },
  {
   "cell_type": "markdown",
   "metadata": {},
   "source": [
    "Вычисление определителя."
   ]
  },
  {
   "cell_type": "code",
   "execution_count": 4,
   "metadata": {},
   "outputs": [],
   "source": [
    "def det(U):\n",
    "    detA = 1\n",
    "    for i in range(U.shape[0]):\n",
    "        detA *= U[i,i]\n",
    "    return detA"
   ]
  },
  {
   "cell_type": "markdown",
   "metadata": {},
   "source": [
    "Решение СЛАУ.\n",
    "$$\n",
    "Ax=b \\\\\n",
    "PA = Pb \\\\\n",
    "LUx = b'\\\\\n",
    "Ly = b' \\\\\n",
    "Ux = y \\\\\n",
    "$$"
   ]
  },
  {
   "cell_type": "code",
   "execution_count": 5,
   "metadata": {},
   "outputs": [],
   "source": [
    "def solveSLAU(Parr,L,U,b):#LUx=Pb\n",
    "    N = len(b)\n",
    "    Pb = np.copy(b)\n",
    "    y=np.zeros(N)\n",
    "    x=np.zeros(N)\n",
    "    for i in range(N): #P*b\n",
    "        Pb[i] = b[Parr[i]]\n",
    "    for i in range(N):#Ly=Pb\n",
    "        y[i] = Pb[i]-np.inner(y[:i],L[i,:i])\n",
    "    for i in range(N-1,-1,-1):#Ux=y\n",
    "        x[i] = (y[i]-np.inner(x[i+1:],U[i,i+1:]))/U[i,i]\n",
    "    return x"
   ]
  },
  {
   "cell_type": "markdown",
   "metadata": {},
   "source": [
    "Обратная матрица\n",
    "$$\n",
    "PA = B \\\\\n",
    "BB^{-1} = E \\\\\n",
    "LUB^{-1} = E\\\\\n",
    "LY = E \\\\\n",
    "UB^{-1} = Y \\\\\n",
    "$$\n",
    "Так же можем установить соотношение между отбратной $A$ и  $B$\n",
    "$$\n",
    "A^{-1}P^{-1}=B^{-1} \\\\\n",
    "A^{-1}=B^{-1}P\n",
    "$$\n"
   ]
  },
  {
   "cell_type": "code",
   "execution_count": 6,
   "metadata": {},
   "outputs": [],
   "source": [
    "def inverse(Parr, L, U):\n",
    "    N= len(b)#let PA = B = LU and B_-1=X then BX = E : LUX = E where LY = E, UX = Y therefore A_-1 = XP\n",
    "    E = np.eye(N)\n",
    "    Y = np.zeros((N,N))\n",
    "    X = np.zeros((N,N))\n",
    "    P= np.zeros((N,N))\n",
    "    for j in range(N):\n",
    "        for i in range(N):\n",
    "            Y[i,j]= E[i,j] - np.inner(Y[:i,j],L[i,:i])\n",
    "    for j in range(N):\n",
    "        for i in range(N-1,-1,-1):\n",
    "            X[i, j] = (Y[i, j] - np.inner(X[i+1:,j], U[i,i+1:]))/U[i,i]\n",
    "    for i in range(N):\n",
    "        P[i, Parr[i]] = 1\n",
    "    X = X @ P\n",
    "    return X"
   ]
  },
  {
   "cell_type": "code",
   "execution_count": 7,
   "metadata": {},
   "outputs": [],
   "source": [
    "np.set_printoptions(precision=3)\n",
    "a = np.array([[-5,-1,-3,-1],[-2,0,8,-4],[-7,-2,2,-2],[2,-4,-4,4]],dtype=float)\n",
    "b = np.array([18,-12,6,-12],dtype=float)"
   ]
  },
  {
   "cell_type": "code",
   "execution_count": 8,
   "metadata": {},
   "outputs": [],
   "source": [
    "L, u, Parr, detA = PLU(a)\n",
    "x = solveSLAU(Parr,L,u,b)\n",
    "invA = inverse(Parr,L,u)"
   ]
  },
  {
   "cell_type": "code",
   "execution_count": 9,
   "metadata": {},
   "outputs": [
    {
     "name": "stdout",
     "output_type": "stream",
     "text": [
      "Determinant: 288.0 \n",
      "\n",
      "Solution: [-2.  3. -3. -2.] \n",
      "\n",
      "Inverse A:\n",
      " [[ 0.222  0.222 -0.333  0.111]\n",
      " [-0.333 -0.333  0.25  -0.292]\n",
      " [-0.333 -0.083  0.25  -0.042]\n",
      " [-0.778 -0.528  0.667 -0.139]] \n",
      "\n",
      "Using np.linalg\n",
      "\n",
      "Determinant: 288.00000000000006 \n",
      "\n",
      "Solution: [-2.  3. -3. -2.] \n",
      "\n",
      "Inverse A:\n",
      " [[ 0.222  0.222 -0.333  0.111]\n",
      " [-0.333 -0.333  0.25  -0.292]\n",
      " [-0.333 -0.083  0.25  -0.042]\n",
      " [-0.778 -0.528  0.667 -0.139]] \n",
      "\n"
     ]
    }
   ],
   "source": [
    "print(\"Determinant:\",detA,\"\\n\")\n",
    "print(\"Solution:\",x,\"\\n\")\n",
    "print(\"Inverse A:\\n\",invA,\"\\n\")\n",
    "print(\"Using np.linalg\\n\")\n",
    "print(\"Determinant:\",np.linalg.det(a),\"\\n\")\n",
    "print(\"Solution:\",np.linalg.solve(a,b),\"\\n\")\n",
    "print(\"Inverse A:\\n\",np.linalg.inv(a),\"\\n\")"
   ]
  },
  {
   "cell_type": "code",
   "execution_count": 10,
   "metadata": {},
   "outputs": [
    {
     "name": "stdout",
     "output_type": "stream",
     "text": [
      "A:\n",
      " [[-5. -1. -3. -1.]\n",
      " [-2.  0.  8. -4.]\n",
      " [-7. -2.  2. -2.]\n",
      " [ 2. -4. -4.  4.]] \n",
      "\n",
      "L:\n",
      " [[ 1.     0.     0.     0.   ]\n",
      " [-0.286  1.     0.     0.   ]\n",
      " [ 0.286 -0.125  1.     0.   ]\n",
      " [ 0.714 -0.094 -0.679  1.   ]] \n",
      "\n",
      "U:\n",
      " [[-7.    -2.     2.    -2.   ]\n",
      " [ 0.    -4.571 -3.429  3.429]\n",
      " [ 0.     0.     7.    -3.   ]\n",
      " [ 0.     0.     0.    -1.286]] \n",
      "\n",
      "P:\n",
      " [[0. 0. 0. 1.]\n",
      " [0. 0. 1. 0.]\n",
      " [1. 0. 0. 0.]\n",
      " [0. 1. 0. 0.]] \n",
      "\n",
      "[[-7. -2.  2. -2.]\n",
      " [ 2. -4. -4.  4.]\n",
      " [-2.  0.  8. -4.]\n",
      " [-5. -1. -3. -1.]]\n"
     ]
    }
   ],
   "source": [
    "def LUprint(L,u,Parr,a):\n",
    "    N = a.shape[0]\n",
    "    P = np.zeros((N,N)) #making inverse permutation matrix from Parr\n",
    "    for i in range(N):\n",
    "        P[Parr[i],i]=1\n",
    "    print(\"A:\\n\",a,\"\\n\")\n",
    "    print(\"L:\\n\",L, \"\\n\") #Permutated L\n",
    "    print(\"U:\\n\",u, \"\\n\") #Permutated U\n",
    "    print(\"P:\\n\",P,\"\\n\")#Its result is a permutated matrix a\n",
    "    print(L@u)\n",
    "\n",
    "LUprint(L,u, Parr,a)"
   ]
  },
  {
   "cell_type": "code",
   "execution_count": null,
   "metadata": {},
   "outputs": [],
   "source": []
  }
 ],
 "metadata": {
  "kernelspec": {
   "display_name": "Python 3",
   "language": "python",
   "name": "python3"
  },
  "language_info": {
   "codemirror_mode": {
    "name": "ipython",
    "version": 3
   },
   "file_extension": ".py",
   "mimetype": "text/x-python",
   "name": "python",
   "nbconvert_exporter": "python",
   "pygments_lexer": "ipython3",
   "version": "3.8.3"
  }
 },
 "nbformat": 4,
 "nbformat_minor": 4
}
