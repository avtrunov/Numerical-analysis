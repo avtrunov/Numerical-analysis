{
 "cells": [
  {
   "cell_type": "markdown",
   "metadata": {},
   "source": [
    "# Лабораторная работа 1.5\n",
    "Трунов Антон М8О-304Б Вариант 16"
   ]
  },
  {
   "cell_type": "markdown",
   "metadata": {},
   "source": [
    "# Задание\n",
    "Реализовать алгоритм QR – разложения матриц в виде программы. На его основе разработать программу, реализующую QR – алгоритм решения полной проблемы собственных значений произвольных матриц, задавая в качестве входных данных матрицу и точность вычислений. С использованием разработанного программного обеспечения найти собственные значения матрицы.\n",
    "\\begin{pmatrix}\n",
    "1 & 2 & 5 \\\\\n",
    "-8 & 0 & 6 \\\\\n",
    "7 & -9 & -7 \\\\\n",
    "\\end{pmatrix}"
   ]
  },
  {
   "cell_type": "code",
   "execution_count": 1,
   "metadata": {},
   "outputs": [],
   "source": [
    "import numpy as np\n",
    "\n",
    "from math import sqrt\n",
    "\n",
    "e = 1\n",
    "def machine_epsilon():\n",
    "    global e\n",
    "    while e + 1 != 1:  # calculating machine epsilon\n",
    "        e = e / 2\n",
    "\n",
    "def householder(x):\n",
    "    N = x.shape[0]\n",
    "    y = np.zeros(N)\n",
    "    xNorm = sqrt(np.inner(x,x))#computing 2-norm of the vector x\n",
    "    y[0] = xNorm\n",
    "    u = np.copy(x)  #constructing vector u\n",
    "    if x[0] > 0 and xNorm - x[0] < e: #to escape cancellations\n",
    "        u[0] = -np.inner(x[1:],x[1:])/(x[0]+xNorm)\n",
    "    else:\n",
    "        u[0] = x[0] - xNorm\n",
    "    u[:] = u[:] / sqrt(np.inner(u, u))\n",
    "    return u\n",
    "\n",
    "def qT_matrix(U):\n",
    "    Q = np.eye(U.shape[1]) #Q.T = (1-u_1*u_1T)*...*(1-u_n*u_nT)*1\n",
    "    for i in range(U.shape[0]-1,-1,-1):#can be formed via iterations as (1-u_i*(u_iT*QT_i+1))\n",
    "        for j in range (U.shape[1]):\n",
    "            Q[:, j] = Q[:, j] - 2 * np.inner(U[i,:], Q[:, j]) * U[i,:]\n",
    "    return Q\n",
    "\n",
    "\n",
    "def qr_decomp(a):\n",
    "    r = np.array(a, copy=True, dtype=float)\n",
    "    m, n = r.shape\n",
    "    N = n if m > n else m-1\n",
    "    U = np.zeros((n, m))\n",
    "    for i in range(N):\n",
    "        u = np.zeros(m)\n",
    "        u[i:] = householder(r[i:,i]) #householder func which returns vector u\n",
    "        U[i,:] = u[:] #matrix of u vectors\n",
    "        for j in range(n):\n",
    "            r[:,j] = r[:,j] - 2*np.inner(u,r[:,j])*u[:]#A-2u(u.T*A)\n",
    "    q = qT_matrix(U)\n",
    "    return q ,r\n",
    "\n",
    "def qr_algorithm(A,eps=1e-5,maxiter=500):\n",
    "    niter = 0\n",
    "    norm = 1\n",
    "    while norm > eps and niter < maxiter:\n",
    "        LamPrev = A[0,0]\n",
    "        Q, R = qr_decomp(A)\n",
    "        A = R @ Q\n",
    "        norm = abs(A[0, 0] - LamPrev)\n",
    "        niter += 1\n",
    "    return A, niter\n",
    "\n",
    "def eigenval(A,eps=1e-4):\n",
    "    arr = np.empty(A.shape[0],dtype=complex)\n",
    "    i = 0\n",
    "    while i < A.shape[0]:\n",
    "        if abs(A[i+1,i]) < eps:\n",
    "            arr[i] = A[i,i]\n",
    "        else:\n",
    "            coef = [1,-A[i,i]-A[i+1,i+1],A[i,i]*A[i+1,i+1]-A[i,i+1]*A[i+1,i]]\n",
    "            rot=np.roots(coef)\n",
    "            arr[i] = rot[0]\n",
    "            arr[i+1] = rot[1]\n",
    "            i+=1\n",
    "        i+=1\n",
    "    return arr\n"
   ]
  },
  {
   "cell_type": "code",
   "execution_count": 2,
   "metadata": {},
   "outputs": [
    {
     "name": "stdout",
     "output_type": "stream",
     "text": [
      "[[ 1.  3.  1.  6.  7.]\n",
      " [ 1.  1.  4.  5.  9.]\n",
      " [ 4.  3.  1.  2.  9.]\n",
      " [ 4.  7. -7.  0. 11.]\n",
      " [ 7.  9.  3.  1.  8.]]\n",
      "Eigenvalues: [22.035+0.j    -6.176+3.486j -6.176-3.486j  0.659+1.925j  0.659-1.925j] \n",
      "Number of iterations: 13\n",
      "Via linalg: [22.035+0.j    -6.176+3.486j -6.176-3.486j  0.659+1.925j  0.659-1.925j]\n"
     ]
    }
   ],
   "source": [
    "machine_epsilon()\n",
    "a = np.array([[1,3,1,6,7],[1,1,4,5,9],[4,3,1,2,9],[4,7,-7,0,11],[7,9,3,1,8]],dtype=float)\n",
    "print(a)\n",
    "A, niter = qr_algorithm(np.copy(a))\n",
    "eigenA = eigenval(A)\n",
    "np.set_printoptions(precision=3)\n",
    "np.set_printoptions(suppress=True)\n",
    "print(\"Eigenvalues:\",eigenA,\"\\nNumber of iterations:\",niter)\n",
    "print(\"Via linalg:\",np.linalg.eig(a)[0])\n"
   ]
  },
  {
   "cell_type": "code",
   "execution_count": 3,
   "metadata": {},
   "outputs": [
    {
     "name": "stdout",
     "output_type": "stream",
     "text": [
      "Eigenvalues: [[-1.901+19.406j]\n",
      " [-1.901-19.406j]\n",
      " [-1.624+17.946j]\n",
      " [-1.624-17.946j]\n",
      " [-1.223+15.589j]\n",
      " [-1.223-15.589j]\n",
      " [-0.777+12.446j]\n",
      " [-0.777-12.446j]\n",
      " [-0.377 +8.67j ]\n",
      " [-0.377 -8.67j ]\n",
      " [-0.099 +4.449j]\n",
      " [-0.099 -4.449j]] \n",
      "Number of iterations: 500\n",
      "Via linalg: [3.802 3.247 2.445 0.198 1.555 0.753]\n"
     ]
    }
   ],
   "source": [
    "n = 6\n",
    "a = np.array([[1 if abs(i-j)==1 else 0 for i in range(n)] for j in range(n)]).reshape(n,n)+2*np.eye(n)\n",
    "c = np.concatenate((np.zeros((n,n)),np.eye(n)),axis=1)\n",
    "b = np.concatenate((-100*a,-a),axis=1)\n",
    "A = np.concatenate((c,b),axis=0)\n",
    "A, niter = qr_algorithm(np.copy(A))\n",
    "eigenA = eigenval(A)\n",
    "np.set_printoptions(precision=3)\n",
    "np.set_printoptions(suppress=True)\n",
    "print(\"Eigenvalues:\",np.array(eigenA).reshape(12,1),\"\\nNumber of iterations:\",niter)\n",
    "print(\"Via linalg:\",np.linalg.eig(a)[0])"
   ]
  },
  {
   "cell_type": "markdown",
   "metadata": {},
   "source": [
    "[[-1.901+19.406j]\n",
    "\n",
    "\n",
    " [-1.901-19.406j]\n",
    " \n",
    " \n",
    " [-1.623+17.946j]\n",
    " \n",
    " \n",
    " [-1.623-17.946j]\n",
    " \n",
    " \n",
    " [-1.223+15.589j]\n",
    " \n",
    " \n",
    " [-1.223-15.589j]\n",
    " \n",
    " \n",
    " [-0.777+12.446j]\n",
    " \n",
    " \n",
    " [-0.777-12.446j]\n",
    " \n",
    " \n",
    " [-0.377 +8.67j ]\n",
    " \n",
    " \n",
    " [-0.377 -8.67j ]\n",
    " \n",
    " \n",
    " [-0.099 +4.449j]\n",
    " \n",
    " \n",
    " [-0.099 -4.449j]]"
   ]
  },
  {
   "cell_type": "code",
   "execution_count": null,
   "metadata": {},
   "outputs": [],
   "source": []
  }
 ],
 "metadata": {
  "kernelspec": {
   "display_name": "Python 3",
   "language": "python",
   "name": "python3"
  },
  "language_info": {
   "codemirror_mode": {
    "name": "ipython",
    "version": 3
   },
   "file_extension": ".py",
   "mimetype": "text/x-python",
   "name": "python",
   "nbconvert_exporter": "python",
   "pygments_lexer": "ipython3",
   "version": "3.8.3"
  }
 },
 "nbformat": 4,
 "nbformat_minor": 4
}
